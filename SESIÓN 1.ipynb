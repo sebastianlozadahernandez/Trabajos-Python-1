{
  "nbformat": 4,
  "nbformat_minor": 0,
  "metadata": {
    "colab": {
      "provenance": [],
      "include_colab_link": true
    },
    "kernelspec": {
      "name": "python3",
      "display_name": "Python 3"
    },
    "language_info": {
      "name": "python"
    }
  },
  "cells": [
    {
      "cell_type": "markdown",
      "metadata": {
        "id": "view-in-github",
        "colab_type": "text"
      },
      "source": [
        "<a href=\"https://colab.research.google.com/github/sebastianlozadahernandez/Trabajos-Python-1/blob/main/SESI%C3%93N%201.ipynb\" target=\"_parent\"><img src=\"https://colab.research.google.com/assets/colab-badge.svg\" alt=\"Open In Colab\"/></a>"
      ]
    },
    {
      "cell_type": "markdown",
      "source": [
        "<p><img alt=\"Colaboratory logo\" height=\"120px\" src=\"https://www.udea.edu.co/wps/wcm/connect/udea/df55724e-3ebc-46c6-b608-fb9206b3fede/facultad-economicas.png?MOD=AJPERES&CVID=nc5zPyj\" align=\"Center\" hspace=\"10px\" vspace=\"10px\"></p>\n",
        "\n",
        "\n",
        "#***Python I - Introducción a modelos económicos y financieros con Python***\n",
        "\n",
        "---\n",
        "\n",
        "\n",
        "#**Sesión 1**\n",
        "# Docente: *Cristian Ruiz Parra*\n",
        "\n",
        "#**Objetivos del curso:**\n",
        "\n",
        "*   Desarrollar y aprender conceptos básicos en programación.\n",
        "*   Aprender conceptos que permitan manejar y manipular bases de datos a través de Python .\n",
        "*   Desarrollar algoritmos bajo la estructura de programación orientada a objetos en lenguaje\n",
        "Python.\n",
        "\n",
        "\n",
        "---\n",
        "\n",
        "\n",
        "\n",
        "#Cantidad de encuentros: 12 (2 por semana)\n",
        "#Horario: Lunes y Miercoles de 6pm a 9pm\n",
        "#Fecha de Inicio: 20 de octubre\n",
        "# Fecha de cierre: 1 de diciembre\n",
        "\n",
        "\n",
        "---\n",
        "\n",
        "\n",
        "**Temas para la sesión del día de hoy**\n",
        "\n",
        "* Introducción e historia de Python\n",
        "* Entornos de programación: interprete, scripts, jupyter\n",
        "* Sintaxis: Tipos de variables, funciones, palabras reservadas, indentacion, cadenas de\n",
        "caracteres.\n",
        "* Numpy: arreglos, operaciones, funciones, atributos, métodos.\n",
        "\n",
        "\n",
        "\n",
        "\n",
        "\n",
        "\n",
        "\n",
        "\n"
      ],
      "metadata": {
        "id": "-AUIab8wtiyY"
      }
    },
    {
      "cell_type": "markdown",
      "source": [
        "# **¿Qué es Python?**\n",
        "\n",
        "Python es un lenguaje de programación de alto nivel, interpretado y de propósito general que prioriza la legibilidad del código y la productividad del desarrollador. Creado por Guido van Rossum en 1991, se distingue por su sintaxis clara y minimalista que se asemeja al lenguaje humano, haciendo que el código sea comprensible incluso para no programadores.\n",
        "\n",
        "**Interpretado Vs Compilado**\n",
        "\n",
        "La diferencia fundamental es que los lenguajes compilados realizan un análisis completo del código y lo convierten a código máquina antes de ejecutarlo, mientras que los interpretados como Python analizan y ejecutan instrucción por instrucción a través de múltiples capas de abstracción, manteniendo el estado y variables en memoria durante todo el proceso."
      ],
      "metadata": {
        "id": "KIy2kxE9iMXT"
      }
    },
    {
      "cell_type": "code",
      "source": [
        "#Ejemplo Proceso Compilado\n",
        "\n",
        "def proceso_compilado():\n",
        "    print(\"=== SIMULACIÓN DE PROCESO COMPILADO ===\")\n",
        "    print(\"🔹 PASO 1: Escribir código fuente\")\n",
        "    codigo_fuente = \"\"\"\n",
        "#include <stdio.h>\n",
        "int main() {\n",
        "    int x = 10;\n",
        "    int y = 20;\n",
        "    printf(\"Resultado: %d\\\\n\", x + y);\n",
        "    return 0;\n",
        "}\n",
        "\"\"\"\n",
        "    print(\"Código C escrito:\")\n",
        "    print(codigo_fuente)\n",
        "\n",
        "    print(\"\\\\n🔹 PASO 2: Compilación (análisis completo)\")\n",
        "    print(\"✓ Verificación de sintaxis...\")\n",
        "    print(\"✓ Verificación de tipos...\")\n",
        "    print(\"✓ Optimización de código...\")\n",
        "    print(\"✓ Generación de código máquina...\")\n",
        "\n",
        "    print(\"\\\\n🔹 PASO 3: Enlazado (linking)\")\n",
        "    print(\"✓ Combinación con librerías...\")\n",
        "    print(\"✓ Creación de ejecutable...\")\n",
        "\n",
        "    print(\"\\\\n🔹 PASO 4: Ejecución del programa compilado\")\n",
        "    print(\">>> Ejecutando programa.exe\")\n",
        "    print(\"Resultado: 30\")\n",
        "\n",
        "    print(\"\\\\n📋 CARACTERÍSTICAS DEL PROCESO COMPILADO:\")\n",
        "    print(\"• Análisis COMPLETO antes de ejecutar\")\n",
        "    print(\"• Errores detectados en COMPILACIÓN\")\n",
        "    print(\"• Ejecutable NATIVO de alto rendimiento\")\n",
        "    print(\"• NO portable entre sistemas\")\n",
        "\n",
        "# Ejecutar simulación\n",
        "proceso_compilado()"
      ],
      "metadata": {
        "colab": {
          "base_uri": "https://localhost:8080/"
        },
        "id": "TNnQdQM_zOJj",
        "outputId": "83ad3fbd-4b2e-444a-85c2-dcadb1459c87"
      },
      "execution_count": null,
      "outputs": [
        {
          "output_type": "stream",
          "name": "stdout",
          "text": [
            "=== SIMULACIÓN DE PROCESO COMPILADO ===\n",
            "🔹 PASO 1: Escribir código fuente\n",
            "Código C escrito:\n",
            "\n",
            "#include <stdio.h>\n",
            "int main() {\n",
            "    int x = 10;\n",
            "    int y = 20;\n",
            "    printf(\"Resultado: %d\\n\", x + y);\n",
            "    return 0;\n",
            "}\n",
            "\n",
            "\\n🔹 PASO 2: Compilación (análisis completo)\n",
            "✓ Verificación de sintaxis...\n",
            "✓ Verificación de tipos...\n",
            "✓ Optimización de código...\n",
            "✓ Generación de código máquina...\n",
            "\\n🔹 PASO 3: Enlazado (linking)\n",
            "✓ Combinación con librerías...\n",
            "✓ Creación de ejecutable...\n",
            "\\n🔹 PASO 4: Ejecución del programa compilado\n",
            ">>> Ejecutando programa.exe\n",
            "Resultado: 30\n",
            "\\n📋 CARACTERÍSTICAS DEL PROCESO COMPILADO:\n",
            "• Análisis COMPLETO antes de ejecutar\n",
            "• Errores detectados en COMPILACIÓN\n",
            "• Ejecutable NATIVO de alto rendimiento\n",
            "• NO portable entre sistemas\n"
          ]
        }
      ]
    },
    {
      "cell_type": "code",
      "source": [
        "#Ejemplo Proceso Interpretado\n",
        "\n",
        "def proceso_interpretado():\n",
        "    print(\"=== PROCESO INTERPRETADO EN PYTHON ===\")\n",
        "\n",
        "    # Simulamos un script Python siendo interpretado\n",
        "    script_python = [\n",
        "        'print(\"🔹 Línea 1: Iniciando programa\")',\n",
        "        'x = 10',\n",
        "        'print(f\"🔹 Línea 2: x = {x}\")',\n",
        "        'y = 20',\n",
        "        'print(f\"🔹 Línea 3: y = {y}\")',\n",
        "        'resultado = x + y',\n",
        "        'print(f\"🔹 Línea 4: {x} + {y} = {resultado}\")',\n",
        "        '# La siguiente línea tiene un error',\n",
        "        'z = resultado / 0  # Esto generará error'\n",
        "    ]\n",
        "\n",
        "    print(\"🎯 EJECUCIÓN LÍNEA POR LÍNEA:\")\n",
        "    print(\"=\" * 50)\n",
        "\n",
        "    # Simulamos el intérprete ejecutando línea por línea\n",
        "    for i, linea in enumerate(script_python, 1):\n",
        "        print(f\"📝 Ejecutando línea {i}: {linea}\")\n",
        "\n",
        "        try:\n",
        "            if not linea.startswith('#'):  # Ignorar comentarios\n",
        "                exec(linea)\n",
        "            else:\n",
        "                print(\"   ⏭️  Comentario - saltando...\")\n",
        "        except Exception as e:\n",
        "            print(f\"   ❌ ERROR en línea {i}: {type(e).__name__}: {e}\")\n",
        "            print(\"   ⚠️  El programa se detiene aquí\")\n",
        "            break\n",
        "\n",
        "        print(\"   ✅ Ejecutada correctamente\")\n",
        "        print(\"-\" * 40)\n",
        "\n",
        "# Ejecutar demostración\n",
        "proceso_interpretado()"
      ],
      "metadata": {
        "colab": {
          "base_uri": "https://localhost:8080/"
        },
        "id": "gj9EHKb53l9-",
        "outputId": "72e75cbf-24fe-4159-fcc5-4c65842e8232"
      },
      "execution_count": null,
      "outputs": [
        {
          "output_type": "stream",
          "name": "stdout",
          "text": [
            "=== PROCESO INTERPRETADO EN PYTHON ===\n",
            "🎯 EJECUCIÓN LÍNEA POR LÍNEA:\n",
            "==================================================\n",
            "📝 Ejecutando línea 1: print(\"🔹 Línea 1: Iniciando programa\")\n",
            "🔹 Línea 1: Iniciando programa\n",
            "   ✅ Ejecutada correctamente\n",
            "----------------------------------------\n",
            "📝 Ejecutando línea 2: x = 10\n",
            "   ✅ Ejecutada correctamente\n",
            "----------------------------------------\n",
            "📝 Ejecutando línea 3: print(f\"🔹 Línea 2: x = {x}\")\n",
            "🔹 Línea 2: x = 10\n",
            "   ✅ Ejecutada correctamente\n",
            "----------------------------------------\n",
            "📝 Ejecutando línea 4: y = 20\n",
            "   ✅ Ejecutada correctamente\n",
            "----------------------------------------\n",
            "📝 Ejecutando línea 5: print(f\"🔹 Línea 3: y = {y}\")\n",
            "🔹 Línea 3: y = 20\n",
            "   ✅ Ejecutada correctamente\n",
            "----------------------------------------\n",
            "📝 Ejecutando línea 6: resultado = x + y\n",
            "   ✅ Ejecutada correctamente\n",
            "----------------------------------------\n",
            "📝 Ejecutando línea 7: print(f\"🔹 Línea 4: {x} + {y} = {resultado}\")\n",
            "🔹 Línea 4: 10 + 20 = 30\n",
            "   ✅ Ejecutada correctamente\n",
            "----------------------------------------\n",
            "📝 Ejecutando línea 8: # La siguiente línea tiene un error\n",
            "   ⏭️  Comentario - saltando...\n",
            "   ✅ Ejecutada correctamente\n",
            "----------------------------------------\n",
            "📝 Ejecutando línea 9: z = resultado / 0  # Esto generará error\n",
            "   ❌ ERROR en línea 9: ZeroDivisionError: division by zero\n",
            "   ⚠️  El programa se detiene aquí\n"
          ]
        }
      ]
    },
    {
      "cell_type": "markdown",
      "source": [
        "**Scripts:**\n",
        "\n",
        "Un script es un conjunto de instrucciones o comandos escritos en un lenguaje de programación interpretado, diseñado para ser ejecutado secuencialmente por un intérprete o motor de ejecución, con el propósito de automatizar tareas específicas sin necesidad de compilación previa."
      ],
      "metadata": {
        "id": "tuCjJYl_74A8"
      }
    },
    {
      "cell_type": "code",
      "source": [
        "#Multiplicador\n",
        "def multiply(a, b):\n",
        "    return float(a) * float(b)\n",
        "\n",
        "\n",
        "def main():\n",
        "    a = input('Inserte el primer número: ')\n",
        "    b = input('Inserte el segundo número: ')\n",
        "    res = multiply(a, b)\n",
        "    print(f'La multiplicación es {res}')\n",
        "\n",
        "\n",
        "if __name__ == '__main__':\n",
        "    main()"
      ],
      "metadata": {
        "colab": {
          "base_uri": "https://localhost:8080/"
        },
        "id": "TXb0xkQf7Wy5",
        "outputId": "91beed46-7456-4d11-9479-dda2b5b9a358"
      },
      "execution_count": null,
      "outputs": [
        {
          "output_type": "stream",
          "name": "stdout",
          "text": [
            "Inserte el primer número: 5\n",
            "Inserte el segundo número: 6\n",
            "La multiplicación es 30.0\n"
          ]
        }
      ]
    },
    {
      "cell_type": "code",
      "source": [
        "#Horas_en_el_Mundo\n",
        "from datetime import datetime\n",
        "import pytz\n",
        "\n",
        "if __name__ == '__main__':\n",
        "    places_tz = ['Asia/Tokyo', 'Europe/Madrid', 'America/Argentina/Buenos_Aires', 'US/eastern', 'US/Pacific', 'UTC']\n",
        "    cities_name = ['Tokyo', 'Madrid', 'Buenos Aires', 'New York', 'California', 'UTC']\n",
        "    for place_tz, city_name in zip(places_tz, cities_name):\n",
        "        city_time = datetime.now(pytz.timezone(place_tz))\n",
        "        print(f'Fecha en {city_name} - {city_time}')"
      ],
      "metadata": {
        "colab": {
          "base_uri": "https://localhost:8080/"
        },
        "id": "k53iURiodZat",
        "outputId": "34bdcea9-325e-4591-9ef3-8abd5612eeb1"
      },
      "execution_count": null,
      "outputs": [
        {
          "output_type": "stream",
          "name": "stdout",
          "text": [
            "Fecha en Tokyo - 2025-10-21 08:42:20.720632+09:00\n",
            "Fecha en Madrid - 2025-10-21 01:42:20.723171+02:00\n",
            "Fecha en Buenos Aires - 2025-10-20 20:42:20.725143-03:00\n",
            "Fecha en New York - 2025-10-20 19:42:20.726967-04:00\n",
            "Fecha en California - 2025-10-20 16:42:20.728631-07:00\n",
            "Fecha en UTC - 2025-10-20 23:42:20.728702+00:00\n"
          ]
        }
      ]
    },
    {
      "cell_type": "markdown",
      "source": [
        "# **Entornos de Ejecución**\n",
        "\n",
        "es el conjunto completo de recursos, herramientas y configuraciones que permiten que un programa o script se ejecute correctamente. Es el \"ecosistema\" donde el código cobra vida.\n",
        "\n",
        "**Jupyter:** Jupyter es un proyecto de código abierto que consiste en una suite de herramientas para computación interactiva y documentación ejecutable. Su componente principal es Jupyter Notebook, una aplicación web que permite crear y compartir documentos que contienen código ejecutable, visualizaciones, texto explicativo y ecuaciones matemáticas.\n",
        "\n",
        "[Anaconda:](https://www.anaconda.com/download-success) Es una distribución completa de Python especializada en ciencia de datos, machine learning y computación científica. Es como un \"kit completo\" que incluye Python, las bibliotecas más importantes preinstaladas y herramientas para gestionar entornos de trabajo.\n",
        "\n",
        "[Google Colaboratory:](https://colab.google/) Google Colaboratory, conocido como Google Colab, es un servicio en la nube gratuito basado en Jupyter Notebook que te permite escribir y ejecutar código Python directamente en tu navegador sin necesidad de realizar ninguna configuración o instalación.\n",
        "\n",
        "[Visual Studio Code:](https://code.visualstudio.com/) Visual Studio es un Entorno de Desarrollo Integrado (IDE) creado por Microsoft, diseñado para desarrollar aplicaciones en múltiples lenguajes de programación. Es una herramienta completa que integra todas las funciones necesarias para escribir, depurar, compilar y desplegar software."
      ],
      "metadata": {
        "id": "l2c3lmtRw27T"
      }
    },
    {
      "cell_type": "markdown",
      "source": [
        "**Sintaxis**\n",
        "Es el conjunto de reglas que definen como se tiene que escribir el código, o en otras palabras como debemos darle las instrucciones para que se entienda la acción en el lenguaje de programación. Haciendo un simil, seria lo que la gramática es a los idiomas, no es lo mismo decir **\"Comemos restaurante en el\"** que **\"comemos en el restaurante\"**\n"
      ],
      "metadata": {
        "id": "Fzru0wBpQa-T"
      }
    },
    {
      "cell_type": "markdown",
      "source": [
        "# **Tipos de Datos Fundamentales en Python**\n",
        "\n",
        "**ENTEROS (int):** Los enteros son números completos (sin decimales) que pueden ser positivos, negativos o cero. Python no tiene límite práctico en el tamaño de los enteros.\n",
        "\n",
        "**PUNTO FLOTANTE (float):** Los flotantes son números reales que contienen punto decimal. Representan números con parte decimaly tienen precisión limitada.\n",
        "\n",
        " **BOOLEANOS (bool):** Los booleanos son valores binarios que pueden ser verdaderos (True) o falsos (False). Se utilizan en expresiones lógicas y estructuras de control.\n",
        "\n",
        " **CADENAS DE CARACTERES (str)**: son secuencias inmutables de caracteres Unicode utilizadas para representar texto. Se pueden definir con comillas simples, dobles o triples."
      ],
      "metadata": {
        "id": "WxaVWU2IyCnW"
      }
    },
    {
      "cell_type": "code",
      "source": [
        "# integers\n",
        "\n",
        "x = 1\n",
        "type(x)"
      ],
      "metadata": {
        "colab": {
          "base_uri": "https://localhost:8080/"
        },
        "id": "3lYy11TwyUDy",
        "outputId": "42775c61-69e5-4035-9807-f9771f4b1d04"
      },
      "execution_count": null,
      "outputs": [
        {
          "output_type": "execute_result",
          "data": {
            "text/plain": [
              "int"
            ]
          },
          "metadata": {},
          "execution_count": 108
        }
      ]
    },
    {
      "cell_type": "code",
      "source": [
        "# float\n",
        "\n",
        "x = 1.09875\n",
        "type(x)"
      ],
      "metadata": {
        "colab": {
          "base_uri": "https://localhost:8080/"
        },
        "id": "qP5BaxPmyWOg",
        "outputId": "ad0d03af-2c49-4cb1-e158-74fc68e6f4bb"
      },
      "execution_count": null,
      "outputs": [
        {
          "output_type": "execute_result",
          "data": {
            "text/plain": [
              "float"
            ]
          },
          "metadata": {},
          "execution_count": 109
        }
      ]
    },
    {
      "cell_type": "code",
      "source": [
        "# boolean\n",
        "\n",
        "b1 = True\n",
        "b2 = False\n",
        "\n",
        "type(b1), type(b2)"
      ],
      "metadata": {
        "colab": {
          "base_uri": "https://localhost:8080/"
        },
        "id": "Xz4FWqg2yX2w",
        "outputId": "84eb0d9e-2d88-49ba-f1d7-024b4533f058"
      },
      "execution_count": null,
      "outputs": [
        {
          "output_type": "execute_result",
          "data": {
            "text/plain": [
              "(bool, bool)"
            ]
          },
          "metadata": {},
          "execution_count": 110
        }
      ]
    },
    {
      "cell_type": "code",
      "source": [
        "# string\n",
        "s = \"Hola Mundo\"\n",
        "\n",
        "type(s)"
      ],
      "metadata": {
        "colab": {
          "base_uri": "https://localhost:8080/"
        },
        "id": "1ZRo9REqybVh",
        "outputId": "1dc78d69-c240-4f0d-fd15-d4f4a1f6df77"
      },
      "execution_count": null,
      "outputs": [
        {
          "output_type": "execute_result",
          "data": {
            "text/plain": [
              "str"
            ]
          },
          "metadata": {},
          "execution_count": 111
        }
      ]
    },
    {
      "cell_type": "code",
      "source": [
        "# Longitud del string: Número de caracteres en el string\n",
        "len(s)"
      ],
      "metadata": {
        "colab": {
          "base_uri": "https://localhost:8080/"
        },
        "id": "JkTThUnsys5O",
        "outputId": "00d87d8b-cf6b-477c-ae9a-96dc1b974a9a"
      },
      "execution_count": null,
      "outputs": [
        {
          "output_type": "execute_result",
          "data": {
            "text/plain": [
              "10"
            ]
          },
          "metadata": {},
          "execution_count": 112
        }
      ]
    },
    {
      "cell_type": "code",
      "source": [
        "# Reemplazo de un substring dentro de un string\n",
        "s2 = s.replace(\"Mundo\",\"estudiantes\")\n",
        "print(s2)"
      ],
      "metadata": {
        "colab": {
          "base_uri": "https://localhost:8080/"
        },
        "id": "TX4fPR36yuA4",
        "outputId": "98b0e399-4d51-42bc-8b4a-3f79d2027d65"
      },
      "execution_count": null,
      "outputs": [
        {
          "output_type": "stream",
          "name": "stdout",
          "text": [
            "Hola estudiantes\n"
          ]
        }
      ]
    },
    {
      "cell_type": "markdown",
      "source": [
        "# **Símbolos Básicos:**\n",
        "\n",
        "**Parentesis:** Agrupación y funciones\n",
        "\n",
        "Ejemplos de parentesis\n",
        "\n",
        "    resultado = (5 + 3) * 2  # Agrupación matemática\n",
        "    print(\"Hola Mundo\")       # Llamada de función\n",
        "    tupla = (1, 2, 3)        # Definición de tuplas\n",
        "\n",
        "\n",
        "\n",
        "\n",
        "\n",
        "**Llaves:** Diccionarios y sets\n",
        "\n",
        "Ejemplo de llaves{}:\n",
        "\n",
        "    diccionario = {\"nombre\": \"Ana\", \"edad\": 30}  # Diccionarios\n",
        "    conjunto = {1, 2, 3, 4}                      # Sets\n",
        "    f_string = f\"Valor: {5 + 3}\"                 # f-strings\n",
        "\n",
        "**Corchetes:** Listas e indexación\n",
        "\n",
        "Ejemplo de corchetes[]:\n",
        "\n",
        "    lista = [1, 2, 3, 4, 5]     # Definición de lista\n",
        "    elemento = lista[2]          # Acceso por índice: 3\n",
        "    sublista = lista[1:4]        # Slicing: [2, 3, 4]"
      ],
      "metadata": {
        "id": "ARgVgsLOVIly"
      }
    },
    {
      "cell_type": "code",
      "source": [
        "Mano=[\"Anular\", \"Indice\", \"Pulgar\", \"Meñique\", \"Corazon\"]\n",
        "Mano[0]\n",
        "Mano[1:4]"
      ],
      "metadata": {
        "colab": {
          "base_uri": "https://localhost:8080/"
        },
        "id": "aShDC1ZmeARX",
        "outputId": "1f87b981-6b21-4653-90e5-db3a617317fc"
      },
      "execution_count": null,
      "outputs": [
        {
          "output_type": "execute_result",
          "data": {
            "text/plain": [
              "['Indice', 'Pulgar', 'Meñique']"
            ]
          },
          "metadata": {},
          "execution_count": 121
        }
      ]
    },
    {
      "cell_type": "markdown",
      "source": [],
      "metadata": {
        "id": "mx_I52v_cV_n"
      }
    },
    {
      "cell_type": "markdown",
      "source": [
        "🗂️ **LISTA:** Una lista es una colección ordenada y mutable de elementos que permite duplicados. Se define con corchetes []\n",
        "\n",
        "**Características principales:**\n",
        "\n",
        "✅ Ordenada: Mantiene el orden de inserción\n",
        "\n",
        "✅ Mutable: Puede modificarse después de su creación\n",
        "\n",
        "✅ Indexable: Se accede a elementos por posición numérica\n",
        "\n",
        "✅ Permite duplicados: Puede tener elementos repetidos\n",
        "\n",
        "🔒 **TUPLA:** Una tupla es una colección ordenada e inmutable de elementos. Se define con paréntesis ().\n",
        "\n",
        "**Características principales:**\n",
        "\n",
        "✅ Ordenada: Mantiene el orden de inserción\n",
        "\n",
        "❌ Inmutable: NO puede modificarse después de su creación\n",
        "\n",
        "✅ Indexable: Se accede a elementos por posición\n",
        "\n",
        "✅ Permite duplicados: Puede tener elementos repetidos\n",
        "\n",
        "🚀 Más rápida: Mejor rendimiento que las listas\n",
        "\n",
        "\n",
        "📖 **DICIONARIO:** Un diccionario es una colección no ordenada de pares clave-valor. Se define con llaves {}.\n",
        "\n",
        "Características principales:\n",
        "\n",
        "❌ No ordenada (hasta Python 3.7, luego sí mantiene orden)\n",
        "\n",
        "✅ Mutable: Puede modificarse\n",
        "\n",
        "✅ Acceso por clave: No por posición numérica\n",
        "\n",
        "❌ Claves únicas: No permite claves duplicadas\n",
        "\n",
        "✅ Valores duplicados: Los valores sí pueden repetirse\n",
        "\n",
        "🎯 **CONJUNTO (SET):** Un conjunto es una colección no ordenada de elementos únicos. Se define con llaves {} o con set().\n",
        "\n",
        "**Características principales:**\n",
        "\n",
        "❌ No ordenada: No mantiene orden de inserción\n",
        "\n",
        "✅ Mutable: Puede modificarse (excepto frozenset)\n",
        "\n",
        "✅ Elementos únicos: Elimina automáticamente duplicados\n",
        "\n",
        "❌ No indexable: No se accede por posición\n",
        "\n",
        "🎯 Operaciones matemáticas: Unión, intersección, diferencia\n",
        "\n",
        "**📍 ELEMENTO:** Un elemento es cada valor individual almacenado dentro de una estructura de datos (lista, tupla, conjunto, etc.).\n",
        "\n",
        "Características principales:\n",
        "\n",
        "✅ Unidad básica: Componente individual de una colección\n",
        "\n",
        "✅ Puede ser cualquier tipo: Números, strings, listas, otros objetos\n",
        "\n",
        "✅ Accesible: Se puede leer y (en estructuras mutables) modificar"
      ],
      "metadata": {
        "id": "KDK2rqyUao05"
      }
    },
    {
      "cell_type": "code",
      "source": [
        "# 📈 DICCIONARIO de indicadores económicos\n",
        "indicadores = {\n",
        "    \"PIB\": 330000,          # clave: \"PIB\", valor: 330000\n",
        "    \"Inflación\": 4.5,       # clave: \"Inflación\", valor: 4.5\n",
        "    \"Desempleo\": 10.2,      # clave: \"Desempleo\", valor: 10.2\n",
        "    \"Moneda\": \"Peso Colombiano\"\n",
        "}\n",
        "\n",
        "# Acceso y modificación\n",
        "print(f\"Desempleo de Colombia para el año 2025: ${indicadores['Desempleo']} porciento\")\n",
        "\n",
        "indicadores[\"Crecimiento\"] = 3.2  # Agregar nuevo par clave-valor\n",
        "\n",
        "indicadores[\"Indice de pobreza\"]= 31.8\n",
        "\n",
        "print(f\"Diccionario completo{indicadores}\")"
      ],
      "metadata": {
        "colab": {
          "base_uri": "https://localhost:8080/"
        },
        "id": "rJIgx_JnbeO2",
        "outputId": "7dc35a19-9ee1-4824-d303-96402ea02fa3"
      },
      "execution_count": null,
      "outputs": [
        {
          "output_type": "stream",
          "name": "stdout",
          "text": [
            "Desempleo de Colombia para el año 2025: $10.2 porciento\n",
            "Diccionario completo{'PIB': 330000, 'Inflación': 4.5, 'Desempleo': 10.2, 'Moneda': 'Peso Colombiano', 'Crecimiento': 3.2, 'Indice de pobreza': 31.8}\n"
          ]
        }
      ]
    },
    {
      "cell_type": "code",
      "source": [
        "# 🔄 CONJUNTO de países en un tratado comercial\n",
        "paises_miembros = {\"Colombia\", \"Perú\", \"Chile\", \"México\", \"Colombia\"}\n",
        "paises_solicitantes = {\"Ecuador\", \"Brasil\", \"Chile\"}\n",
        "\n",
        "print(f\"Países miembros: {paises_miembros}\")\n",
        "\n",
        "# Operaciones de conjuntos\n",
        "nuevos_miembros = paises_solicitantes - paises_miembros  # Diferencia\n",
        "todos_paises = paises_miembros | paises_solicitantes     # Unión |\n",
        "\n",
        "print(f\"Países en el tratado: {todos_paises}\")"
      ],
      "metadata": {
        "colab": {
          "base_uri": "https://localhost:8080/"
        },
        "id": "5Eeegph7dH8x",
        "outputId": "16c886f9-e2e1-4dd7-e7e1-03755fe312c5"
      },
      "execution_count": null,
      "outputs": [
        {
          "output_type": "stream",
          "name": "stdout",
          "text": [
            "Países miembros: {'Perú', 'Chile', 'México', 'Colombia'}\n",
            "Países en el tratado: {'Chile', 'México', 'Colombia', 'Brasil', 'Perú', 'Ecuador'}\n"
          ]
        }
      ]
    },
    {
      "cell_type": "markdown",
      "source": [],
      "metadata": {
        "id": "jq8RXTA_iG0Q"
      }
    },
    {
      "cell_type": "markdown",
      "source": [
        "# **Símbolos Aritméticos y de Asignación:**\n",
        "\n",
        "Los símbolos aritméticos realizan operaciones matemáticas entre valores, mientras que los símbolos de asignación almacenan valores en variables y pueden combinar operaciones con asignación.\n",
        "\n",
        "**operadores Aritméticos**\n",
        "\n",
        "    suma = a + b        \n",
        "    resta = a - b       \n",
        "    multiplicacion = a * b  \n",
        "    division = a / b    \n",
        "    division_entera = a // b  \n",
        "    modulo = a % b      \n",
        "    potencia = a ** b   \n",
        "\n",
        "**Operadores de asignación**\n",
        "\n",
        "    x = 5               # = → Asignación básica\n",
        "    x += 3              # x = x + 3 → Suma y asignación\n",
        "    x -= 2              # x = x - 2 → Resta y asignación\n",
        "    x *= 4              # x = x * 4 → Multiplicación y asignación\n",
        "    x /= 2              # x = x / 2 → División y asignación\n",
        "    x **= 2             # x = x ** 2 → Potencia y asignación\n",
        "    x %= 3              # x = x % 3 → Módulo y asignación"
      ],
      "metadata": {
        "id": "Y_cEn3vIhfzo"
      }
    },
    {
      "cell_type": "code",
      "source": [
        "x=5\n",
        "x+=3\n",
        "x-=2\n",
        "x*=4\n",
        "x/=2\n",
        "x**=2\n",
        "x%=5\n",
        "print(x)"
      ],
      "metadata": {
        "colab": {
          "base_uri": "https://localhost:8080/"
        },
        "id": "QOEremoeJgzW",
        "outputId": "4a93f0bc-1c16-4251-82bf-676e653773c7"
      },
      "execution_count": null,
      "outputs": [
        {
          "output_type": "stream",
          "name": "stdout",
          "text": [
            "4.0\n"
          ]
        }
      ]
    },
    {
      "cell_type": "code",
      "source": [
        "#Atajo definición de var\n",
        "a, b=10,5\n",
        "suma = k + u        # 13 → Suma\n",
        "resta = a - b       # 7 → Resta\n",
        "multiplicacion = a * b  # 30 → Multiplicación\n",
        "division = a / b    # 3.333... → División normal\n",
        "division_entera = a // b  # 3 → División entera\n",
        "modulo = a % b      # 1 → Módulo (resto)\n",
        "potencia = a ** b   # 1000 → Potencia\n",
        "print(f\"multiplicacion:{c}+ {a} * {b} = {multiplicacion}\")\n",
        "\n",
        "\n"
      ],
      "metadata": {
        "id": "8d6T1RfzilV0",
        "colab": {
          "base_uri": "https://localhost:8080/"
        },
        "outputId": "3652526c-5af9-42ca-daef-a1603bcc6577"
      },
      "execution_count": null,
      "outputs": [
        {
          "output_type": "stream",
          "name": "stdout",
          "text": [
            "multiplicacion:2+ 10 * 5 = 50\n"
          ]
        }
      ]
    },
    {
      "cell_type": "markdown",
      "source": [
        "# **CARACTERES DE COMPARACIÓN**\n",
        "\n",
        "Los caracteres de comparación son operadores que permiten comparar dos valores y devuelven un resultado booleano (True o False). Son esenciales para tomar decisiones en programas mediante estructuras condicionales.\n",
        "\n",
        "    a, b = 10, 5\n",
        "    \n",
        "    igual = a == b          # False → Igualdad\n",
        "    diferente = a != b      # True → Desigualdad\n",
        "    mayor = a > b           # True → Mayor que\n",
        "    menor = a < b           # False → Menor que\n",
        "    mayor_igual = a >= b    # True → Mayor o igual\n",
        "    menor_igual = a <= b    # False → Menor o igual"
      ],
      "metadata": {
        "id": "TXg5Fp5AlBdW"
      }
    },
    {
      "cell_type": "markdown",
      "source": [
        "# 📚**Lista de palabras reservadas y su aplicación**\n",
        "\n",
        "Este grupo de palabras, son importantes de conocer pues no se pueden usar como nombres de variables, Python las reconoce como parte del lenguaje. Sirven para controlar el comportamiento del programa, sin ellas no seria posible escribir instrucciones estructuradas y mantienen la consistencia en todas las versiones.\n",
        "\n",
        "\n",
        "🔸 VALORES BOOLEANOS Y ESPECIALES\n",
        "\n",
        "**False**- Valor booleano que representa \"falso\" en operaciones lógicas\n",
        "\n",
        "**True** - Valor booleano que representa \"verdadero\" en operaciones lógicas\n",
        "\n",
        "**None** - Representa la ausencia de valor o un valor nulo\n",
        "\n",
        "🔸 OPERADORES LÓGICOS\n",
        "\n",
        "**and** - Operador lógico que devuelve True si AMBAS condiciones son verdaderas\n",
        "\n",
        "**or** - Operador lógico que devuelve True si AL MENOS UNA condición es verdadera\n",
        "\n",
        "**not** - Operador lógico que invierte el valor booleano (True → False, False → True)\n",
        "\n",
        "🔸 CONTROL DE FLUJO - CONDICIONALES\n",
        "\n",
        "**if** - Inicia una condición (si se cumple, ejecuta el bloque de código)\n",
        "\n",
        "**elif** - Condición alternativa a un if anterior (else if)\n",
        "\n",
        "**else** - Bloque que se ejecuta cuando NO se cumple ninguna condición anterior\n",
        "\n",
        "🔸 CONTROL DE FLUJO - BUCLES\n",
        "\n",
        "**for** - Crea un bucle que itera sobre una secuencia (lista, tupla, diccionario, etc.)\n",
        "\n",
        "**while** - Crea un bucle que se repite MIENTRAS una condición sea verdadera\n",
        "\n",
        "**break** - Termina inmediatamente un bucle (sale del bucle actual)\n",
        "\n",
        "**continue** - Salta a la siguiente iteración del bucle actual\n",
        "\n",
        "🔸 FUNCIONES Y DEFINICIONES\n",
        "\n",
        "**def** - Define una nueva función\n",
        "\n",
        "**return** - Devuelve un valor desde una función y termina su ejecución\n",
        "\n",
        "**lambda** - Crea funciones anónimas (pequeñas funciones de una línea)\n",
        "\n",
        "**yield** - Devuelve un valor desde una función generadora (sin terminar la función)\n",
        "\n",
        "🔸 MANEJO DE ERRORES Y EXCEPCIONES\n",
        "\n",
        "**try** - Bloque donde se coloca código que podría generar errores\n",
        "\n",
        "**except** - Captura y maneja excepciones (errores) específicos\n",
        "\n",
        "**finally** - Bloque que SIEMPRE se ejecuta, haya o no errores\n",
        "\n",
        "**raise** - Lanza (genera) una excepción manualmente\n",
        "\n",
        "🔸 PROGRAMACIÓN ORIENTADA A OBJETOS\n",
        "\n",
        "**class** - Define una nueva clase (plantilla para crear objetos)\n",
        "\n",
        "**self** - Representa la instancia actual de la clase (no está en la lista pero es clave)\n",
        "\n",
        "🔸 GESTIÓN DE MÓDULOS E IMPORTACIONES\n",
        "\n",
        "**import** - Importa un módulo o biblioteca completa\n",
        "\n",
        "**from** - Especifica de qué módulo importar elementos específicos\n",
        "\n",
        "**as** - Asigna un alias a un módulo o función importada\n",
        "\n",
        "🔸 GESTIÓN DE VARIABLES Y ALCANCE\n",
        "\n",
        "**global** - Declara que una variable es global (accesible desde cualquier lugar)\n",
        "\n",
        "**nonlocal** - Declara que una variable no es local ni global (en funciones anidadas)\n",
        "\n",
        "**del** - Elimina variables, elementos de listas o claves de diccionarios\n",
        "\n",
        "🔸 OPERADORES DE PERTENENCIA E IDENTIDAD\n",
        "\n",
        "**in** - Verifica si un elemento está presente en una secuencia\n",
        "\n",
        "**is** - Verifica si dos variables hacen referencia al MISMO objeto en memoria\n",
        "\n",
        "🔸 PROGRAMACIÓN ASÍNCRONA\n",
        "\n",
        "**async** - Declara una función asíncrona (que puede pausar y reanudar ejecución)\n",
        "\n",
        "**await** - Pausa la ejecución de una función async hasta que una operación termine\n",
        "\n",
        "🔸 UTILIDADES Y CONTROL\n",
        "\n",
        "**assert** - Verifica que una condición sea True, si no lanza un error (útil para pruebas)\n",
        "\n",
        "**pass** - Declaración nula que no hace nada (se usa como marcador de posición)\n",
        "\n",
        "**with** - Simplifica el manejo de recursos (archivos, conexiones) asegurando su cierre"
      ],
      "metadata": {
        "id": "DG7L_be7obtX"
      }
    },
    {
      "cell_type": "code",
      "source": [
        "if_34=10\n",
        "my_class_nameclass=\"Miclasedepython\"\n",
        "def_funcion=\"Funcion\"\n",
        "\n",
        "print(my_class_nameclass)"
      ],
      "metadata": {
        "colab": {
          "base_uri": "https://localhost:8080/"
        },
        "id": "UE31GsFdLXVo",
        "outputId": "e99617b0-42b1-47f3-ebe4-a54e27c12b51"
      },
      "execution_count": null,
      "outputs": [
        {
          "output_type": "stream",
          "name": "stdout",
          "text": [
            "Miclasedepython\n"
          ]
        }
      ]
    },
    {
      "cell_type": "code",
      "source": [
        "if=10\n",
        "Class=\"Miclasedepython\"\n",
        "def=\"funcion\""
      ],
      "metadata": {
        "colab": {
          "base_uri": "https://localhost:8080/",
          "height": 110
        },
        "id": "08s4XKYNrwmy",
        "outputId": "b29530bd-fc5c-4735-ce74-1fec667313bd"
      },
      "execution_count": null,
      "outputs": [
        {
          "output_type": "error",
          "ename": "SyntaxError",
          "evalue": "invalid syntax (ipython-input-1664245145.py, line 1)",
          "traceback": [
            "\u001b[0;36m  File \u001b[0;32m\"/tmp/ipython-input-1664245145.py\"\u001b[0;36m, line \u001b[0;32m1\u001b[0m\n\u001b[0;31m    if=10\u001b[0m\n\u001b[0m      ^\u001b[0m\n\u001b[0;31mSyntaxError\u001b[0m\u001b[0;31m:\u001b[0m invalid syntax\n"
          ]
        }
      ]
    },
    {
      "cell_type": "code",
      "source": [
        "# Definimos una variable x con una cadena de caracteres\n",
        "t= \"La operación (x+y)*z es\"\n",
        "\n",
        "# Se pueden realiazas asignaciones de valores de variables multiples\n",
        "x, y, z = 4, 3, 5\n",
        "\n",
        "#Estructura de la operación aritmetica\n",
        "o=(x+y)*z\n",
        "\n",
        "print(t,o)\n"
      ],
      "metadata": {
        "colab": {
          "base_uri": "https://localhost:8080/"
        },
        "id": "rafvGlUPQaW-",
        "outputId": "012afaec-210a-4108-82ec-deb3b418bc8f"
      },
      "execution_count": null,
      "outputs": [
        {
          "output_type": "stream",
          "name": "stdout",
          "text": [
            "La operación (x+y)*z es 35\n"
          ]
        }
      ]
    },
    {
      "cell_type": "markdown",
      "source": [
        "#**Módulos**\n",
        "\n",
        "\n",
        "La mayoria de funcionalidades en Python estan proporcionadas por los módulos. Para poder usar un módulo en un programa de Python lo primero que se debe realizar es importarlo mediante la sentencia **import**. Por ejemplo, para importa el módulo *math*, el cual contiene gran variedad de funciones matemáticas, podemos hacer lo siguiente"
      ],
      "metadata": {
        "id": "Ch4JvpVAtWLu"
      }
    },
    {
      "cell_type": "code",
      "source": [
        "import math"
      ],
      "metadata": {
        "id": "jizOAXcRthAu"
      },
      "execution_count": null,
      "outputs": []
    },
    {
      "cell_type": "markdown",
      "source": [
        "La línea de código anterior implica la importación de todo el módulo, haciéndolo disponible para su uso posterior dentro del programa. Por ejemplo, podemos usar funciones trigonométricas para calcular algún valor y almacenarlo en una variable:"
      ],
      "metadata": {
        "id": "vn5R6gmotkLx"
      }
    },
    {
      "cell_type": "code",
      "source": [
        "x = math.cos(2*math.pi)\n",
        "x"
      ],
      "metadata": {
        "colab": {
          "base_uri": "https://localhost:8080/"
        },
        "id": "xTBqC6KEuehv",
        "outputId": "3db9b2ce-0cd8-4309-9f3b-15e96aaf1695"
      },
      "execution_count": null,
      "outputs": [
        {
          "output_type": "execute_result",
          "data": {
            "text/plain": [
              "1.0"
            ]
          },
          "metadata": {},
          "execution_count": 148
        }
      ]
    },
    {
      "cell_type": "code",
      "source": [
        "import matplotlib.pyplot as plt\n",
        "import numpy as np\n",
        "\n",
        "# Configurar el estilo de la gráfica\n",
        "plt.style.use('seaborn-v0_8')\n",
        "fig, ax = plt.subplots(figsize=(12, 6))\n",
        "\n",
        "# Crear array de valores x desde -2π hasta 2π\n",
        "x = np.linspace(-2*np.pi, 2*np.pi, 1000)\n",
        "\n",
        "# Calcular los valores del coseno\n",
        "y = np.cos(x)\n",
        "\n",
        "# Crear la gráfica\n",
        "ax.plot(x, y, linewidth=2.5, color='blue', label='cos(x)')\n",
        "\n",
        "# Personalizar la gráfica\n",
        "ax.set_title('Función Coseno: cos(x)', fontsize=16, fontweight='bold')\n",
        "ax.set_xlabel('x (radianes)', fontsize=12)\n",
        "ax.set_ylabel('cos(x)', fontsize=12)\n",
        "ax.grid(True, alpha=0.3)\n",
        "ax.legend(fontsize=12)\n",
        "\n",
        "# Marcar puntos importantes en el eje x (múltiplos de π/2)\n",
        "puntos_importantes = [-2*np.pi, -3*np.pi/2, -np.pi, -np.pi/2, 0,\n",
        "                      np.pi/2, np.pi, 3*np.pi/2, 2*np.pi]\n",
        "etiquetas = ['-2π', '-3π/2', '-π', '-π/2', '0', 'π/2', 'π', '3π/2', '2π']\n",
        "\n",
        "ax.set_xticks(puntos_importantes)\n",
        "ax.set_xticklabels(etiquetas)\n",
        "\n",
        "# Líneas de referencia\n",
        "ax.axhline(y=0, color='black', linewidth=0.8, alpha=0.7)\n",
        "ax.axvline(x=0, color='black', linewidth=0.8, alpha=0.7)\n",
        "\n",
        "# Límites de los ejes\n",
        "ax.set_ylim(-1.2, 1.2)\n",
        "\n",
        "plt.tight_layout()\n",
        "plt.show()"
      ],
      "metadata": {
        "colab": {
          "base_uri": "https://localhost:8080/",
          "height": 607
        },
        "id": "vqwir9i8uTBh",
        "outputId": "a3550fa2-b661-4b4d-c732-d0eadbd960bd"
      },
      "execution_count": null,
      "outputs": [
        {
          "output_type": "display_data",
          "data": {
            "text/plain": [
              "<Figure size 1200x600 with 1 Axes>"
            ],
            "image/png": "[encoded data removed]"
          },
          "metadata": {}
        }
      ]
    },
    {
      "cell_type": "markdown",
      "source": [
        "En lugar de importar una librería completa, lo que puede llevar a un tiempo de ejecución o un consumo de memoria innecesario, podemos escoger importar unas cuantas funciones del módulo haciendo explicito cuales de ellas queremos importar. Por ejemplo, podemos elegir importar solo las funciones  cos  y el valor de  π :"
      ],
      "metadata": {
        "id": "-ks_k_9VumM_"
      }
    },
    {
      "cell_type": "code",
      "source": [
        "from math import cos, pi\n",
        "\n",
        "x = cos(2*pi)\n",
        "x"
      ],
      "metadata": {
        "colab": {
          "base_uri": "https://localhost:8080/"
        },
        "id": "kNAGr_TGup6Z",
        "outputId": "0f8c21a6-a801-449e-d206-5f7cd7b0088e"
      },
      "execution_count": null,
      "outputs": [
        {
          "output_type": "execute_result",
          "data": {
            "text/plain": [
              "1.0"
            ]
          },
          "metadata": {},
          "execution_count": 150
        }
      ]
    },
    {
      "cell_type": "markdown",
      "source": [
        "También es posible asignarle un nombre de acceso a los modolus o símbolos que se importan mediante el uso de as:"
      ],
      "metadata": {
        "id": "c2FXIc3eu7mt"
      }
    },
    {
      "cell_type": "code",
      "source": [
        "import numpy as np\n",
        "from math import pi as number_pi\n",
        "\n",
        "#A continuación, convertímos el número pi de radianes a grados.\n",
        "\n",
        "x = np.rad2deg(number_pi)\n",
        "x"
      ],
      "metadata": {
        "colab": {
          "base_uri": "https://localhost:8080/"
        },
        "id": "LcQ1lFqCuwkg",
        "outputId": "4f07262c-5801-4717-f9e7-ae2efacfeafd"
      },
      "execution_count": null,
      "outputs": [
        {
          "output_type": "execute_result",
          "data": {
            "text/plain": [
              "np.float64(180.0)"
            ]
          },
          "metadata": {},
          "execution_count": 151
        }
      ]
    },
    {
      "cell_type": "markdown",
      "source": [
        "# **Principales Módulos**\n",
        "\n",
        "**Numpy as np:** Operaciones matemáticas y arrays multidimensionales\n",
        "\n",
        "• Arrays n-dimensionales eficientes\n",
        "\n",
        "• Operaciones matemáticas complejas\n",
        "\n",
        "• Álgebra lineal, transformadas de Fourier\n",
        "\n",
        "• Integración con código C/C++/Fortran\n",
        "\n",
        "USO TÍPICO: Cálculos científicos, procesamiento de señales, álgebra lineal\n",
        "\n",
        "**Pandas as pd:** Manipulación y análisis de datos estructurados\n",
        "\n",
        "• DataFrames y Series para datos tabulares\n",
        "\n",
        "• Limpieza y transformación de datos\n",
        "\n",
        "• Análisis exploratorio de datos\n",
        "\n",
        "• Manejo de datos faltantes y series temporales\n",
        "\n",
        "USO TÍPICO: Análisis financiero, datos empresariales, investigación científica\n",
        "\n",
        "**Matplotlib as plt:** Creación de gráficos y visualizaciones estáticas\n",
        "\n",
        "• Gráficos 2D y 3D de alta calidad\n",
        "\n",
        "• Personalización completa de visualizaciones\n",
        "\n",
        "• Exportación a múltiples formatos\n",
        "\n",
        "• Integración con Jupyter notebooks\n",
        "\n",
        "USO TÍPICO: Reportes científicos, dashboards, publicaciones académicas.\n",
        "\n",
        "**Scipy as sp:** Algoritmos matemáticos avanzados y computación científica\n",
        "\n",
        "• Optimización y minimización\n",
        "\n",
        "• Procesamiento de señales\n",
        "\n",
        "• Estadística y probabilidad\n",
        "\n",
        "• Integración numérica y ecuaciones diferenciales\n",
        "\n",
        "USO TÍPICO: Investigación científica, ingeniería, física."
      ],
      "metadata": {
        "id": "U-UXzHn0vD62"
      }
    },
    {
      "cell_type": "markdown",
      "source": [
        "**Bibliografia y fuentes de consulta**\n",
        "\n",
        "---\n",
        "\n",
        "\n",
        "1.[Historia de Python](https://www.aluracursos.com/blog/que-es-python-historia-guia-para-iniciar//)\n",
        "\n",
        "2.[Compiladores e Interpretes](https://clubprogramador.wordpress.com/2018/01/30/compiladores-interpretes-y-entornos-de-desarrolo//)\n",
        "\n",
        "3.[Scripts](https://elpythonista.com/script-en-python#:~:text=Qu%C3%A9%20es%20un%20script%20en,de%20argumentos%20desde%20la%20consola.//)\n",
        "\n",
        "4.[Sintaxis](https://ellibrodepython.com/sintaxis-python//)\n",
        "\n"
      ],
      "metadata": {
        "id": "LGgz6ynmh-Ta"
      }
    }
  ]
}