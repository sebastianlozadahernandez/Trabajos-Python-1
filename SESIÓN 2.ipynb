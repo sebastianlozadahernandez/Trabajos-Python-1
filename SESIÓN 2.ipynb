{
  "nbformat": 4,
  "nbformat_minor": 0,
  "metadata": {
    "colab": {
      "provenance": [],
      "include_colab_link": true
    },
    "kernelspec": {
      "name": "python3",
      "display_name": "Python 3"
    },
    "language_info": {
      "name": "python"
    }
  },
  "cells": [
    {
      "cell_type": "markdown",
      "metadata": {
        "id": "view-in-github",
        "colab_type": "text"
      },
      "source": [
        "<a href=\"https://colab.research.google.com/github/sebastianlozadahernandez/Trabajos-Python-1/blob/main/SESI%C3%93N%202.ipynb\" target=\"_parent\"><img src=\"https://colab.research.google.com/assets/colab-badge.svg\" alt=\"Open In Colab\"/></a>"
      ]
    },
    {
      "cell_type": "markdown",
      "source": [
        "<p><img alt=\"Colaboratory logo\" height=\"120px\" src=\"https://www.udea.edu.co/wps/wcm/connect/udea/df55724e-3ebc-46c6-b608-fb9206b3fede/facultad-economicas.png?MOD=AJPERES&CVID=nc5zPyj\" align=\"Center\" hspace=\"10px\" vspace=\"10px\"></p>\n",
        "\n",
        "#***Python I - Introducción a modelos económicos y financieros con Python***\n",
        "\n",
        "\n",
        "#**Sesión 2**\n",
        "# Docente: *Cristian Ruiz Parra*\n",
        "\n",
        "Contenido de la sesión\n",
        "\n",
        "- Indentación\n",
        "- Cadena de caracteres\n",
        "- Introducción a Numpy\n",
        "- Principales funciones\n",
        "- Taller practico Numpy"
      ],
      "metadata": {
        "id": "qS43xDWC6BES"
      }
    },
    {
      "cell_type": "markdown",
      "source": [
        "# **Indentación (Sangria)**\n",
        "\n",
        "La indetación en Python es el espacio en blanco al inicio de cada linea de código que se usa para definir bloques de código; por ejemplo: En bucles for, condicionales if y funciones.\n",
        "\n",
        "La Convención utilizada son **4 espacios** y python entendera automaticamente que hace parte del ciclo o sentencia establecida (a partir del 1er espacio)\n",
        "\n",
        "Existe una regla no escrita de no mezclar tabs con espacios, para no generar inconsistencia en los metodos de indentación, sin embargo en el caso de google colaboratory, el tab tiene equivalencia automatica a **2 espacios** modificable a 4 en la pestaña de \"Herramientas\" en la función \"Configuración\" en la pestaña \"Editor\" se ajusta el ancho de la sangria"
      ],
      "metadata": {
        "id": "rGInSIpp63mw"
      }
    },
    {
      "cell_type": "code",
      "source": [
        "edad=int(input(\"Inserte la edad de la persona:\"))\n",
        "\n",
        "if 0<=edad<=100: #Edad valida\n",
        "print(\"Edad valida\")\n",
        "if edad >= 18:\n",
        "print(\"Mayor de edad\")\n",
        "puede_votar = True\n",
        "else:\n",
        "print(\"Menor de edad\")\n",
        "puede_votar = False\n",
        "print(f\"Puede votar:{puede_votar}\")\n",
        "else:\n",
        "print(\"Edad invalida\")"
      ],
      "metadata": {
        "id": "iXV9UK2O8Ixt"
      },
      "execution_count": null,
      "outputs": []
    },
    {
      "cell_type": "code",
      "execution_count": null,
      "metadata": {
        "id": "5SFhSaKW5p2t"
      },
      "outputs": [],
      "source": [
        "edad=int(input(\"Inserte la edad de la persona:\"))\n",
        "\n",
        "if 0<=edad<=100: #Edad valida\n",
        "    print(\"Edad valida\")\n",
        "    if edad >= 18:\n",
        "        print(\"Mayor de edad\")\n",
        "        puede_votar = True\n",
        "    else:\n",
        "       print(\"Menor de edad\")\n",
        "       puede_votar = False\n",
        "\n",
        "    print(f\"Puede votar:{puede_votar}\")\n",
        "\n",
        "else:print(\"Edad invalida\")\n",
        "\n"
      ]
    },
    {
      "cell_type": "markdown",
      "source": [
        "# **Cadenas de Caracteres (Strings)**\n",
        "Son secuencias de caracteres Unicode utilizadas para representar texto, los cuales son de los tipos de dados fundamentales y versatiles del lenguaje de programación"
      ],
      "metadata": {
        "id": "KPZ_C-Rbbr0G"
      }
    },
    {
      "cell_type": "markdown",
      "source": [
        "los caracteres especiales para definir en python un string son:\n",
        "\n",
        "Comillas simples:'Texto'\n",
        "\n",
        "Comillas dobles: \"Texto\"\n",
        "\n",
        "Comillas triples(tres comillas sencillas)\n",
        ":'''Texto'''\n",
        "\n",
        "Si se requiere usar alguno de los caracteres como parte del texto se usa alguna combinación de los anteriores\n",
        "\n",
        "Ejm:\n",
        "'ella dijo:\"Soy Feliz\"' de esta forma el definidor del string es la comilla simple(') y las comillas dobles(\") son parte del texto"
      ],
      "metadata": {
        "id": "N7JW6iBvhClO"
      }
    },
    {
      "cell_type": "code",
      "source": [
        "# Comillas simples\n",
        "cadena1 = 'Hola querida'\n",
        "nombre = 'María'\n",
        "print(cadena1, nombre)\n"
      ],
      "metadata": {
        "colab": {
          "base_uri": "https://localhost:8080/"
        },
        "id": "a4SqFkGDccqW",
        "outputId": "f884996f-18c4-473a-d43e-9c6c83248a62"
      },
      "execution_count": null,
      "outputs": [
        {
          "output_type": "stream",
          "name": "stdout",
          "text": [
            "Hola querida María\n"
          ]
        }
      ]
    },
    {
      "cell_type": "code",
      "source": [
        "# Comillas dobles\n",
        "cadena2 = \"Python es genial\"\n",
        "mensaje = \"Él dijo: 'Hola'\"\n",
        "print(cadena2)\n",
        "print(mensaje)\n"
      ],
      "metadata": {
        "colab": {
          "base_uri": "https://localhost:8080/"
        },
        "id": "oJkYoC0rcgYP",
        "outputId": "c297dafd-7d99-4bec-d4ae-525b9cbebb19"
      },
      "execution_count": null,
      "outputs": [
        {
          "output_type": "stream",
          "name": "stdout",
          "text": [
            "Python \n",
            "es genia\n",
            "Él dijo: 'Hola'\n"
          ]
        }
      ]
    },
    {
      "cell_type": "code",
      "source": [
        "# Comillas triples (multilínea)\n",
        "parrafo = \"\"\"Este es un párrafo\n",
        "que ocupa múltiples líneas\n",
        "sin necesidad de caracteres especiales\"\"\"\n",
        "print(parrafo)\n"
      ],
      "metadata": {
        "colab": {
          "base_uri": "https://localhost:8080/"
        },
        "id": "4VQKApexcsDj",
        "outputId": "e00afd5d-b323-4329-a3ad-b7fed4377a77"
      },
      "execution_count": null,
      "outputs": [
        {
          "output_type": "stream",
          "name": "stdout",
          "text": [
            "Este es un párrafo\n",
            "que ocupa múltiples líneas\n",
            "sin necesidad de caracteres especiales\n"
          ]
        }
      ]
    },
    {
      "cell_type": "code",
      "source": [
        "# Caracteres Especiales\n",
        "salto_linea = \"Línea 1\\nLínea 2\"           # \\n - Nueva línea\n",
        "tabulacion = \"Nombre1:\\tJuan\"              # \\t - Tabulación\n",
        "barra_invertida = \"Ruta: C:\\\\Usuarios\"     # \\\\ - Barra invertida\n",
        "comillas_dobles = 'Él dijo: \"Hola\"'        # \" dentro de '\n",
        "comillas_simples = \"It's amazing\"          # ' dentro de \"\n",
        "unicode_char = \"Número: \\u00D7\"            # \\u - Carácter Unicode\n",
        "\n",
        "print(\"Salto de línea:\")\n",
        "print(salto_linea)\n",
        "print(\"\\nTabulación:\")\n",
        "print(tabulacion)\n",
        "print(comillas_dobles)\n",
        "print(unicode_char)"
      ],
      "metadata": {
        "collapsed": true,
        "id": "YwT-AqXaeRJ6"
      },
      "execution_count": null,
      "outputs": []
    },
    {
      "cell_type": "markdown",
      "source": [
        "# **Indexación y corte de cadenas de texto**\n",
        "\n",
        "Para llamar un caracter especifico de la cadena de texto o para un segmento particular de la cadena usamos la misma estructura que se vimos anteriormente para las tuplas.\n",
        "Usando los enteros positivos para llamarlos de izquierda a derecha y los enteros negativos para llamarlos de derecha a izquierda(por tanto el -1 haria referencia al ultimo caracter)"
      ],
      "metadata": {
        "id": "rm71jAJOC790"
      }
    },
    {
      "cell_type": "code",
      "source": [
        "texto = \"Python para todos\"\n",
        "\n",
        "# Indexación (acceso por posición)\n",
        "primer_caracter = texto[0]        # 'P'\n",
        "segundo_caracter = texto[1]       # 'y'\n",
        "ultimo_caracter = texto[-1]       # 's'\n",
        "penultimo = texto[-2]             # 'o'\n",
        "\n",
        "# Slicing (subcadenas)\n",
        "primeras_6 = texto[0:6]           # 'Python'\n",
        "desde_7 = texto[7:]               # 'para todos'\n",
        "hasta_10 = texto[:10]             # 'Python par'\n",
        "cada_2 = texto[::2]               # 'Pto pr ods'\n",
        "reverso = texto[::-1]             # 'sodot arap nohtyP'\n",
        "\n",
        "print(f\"Texto: {texto}\")\n",
        "print(f\"Primer caracter: {primer_caracter}\")\n",
        "print(f\"Segundo caracter: {segundo_caracter}\")\n",
        "print(f\"Último caracter: {ultimo_caracter}\")\n",
        "print(f\"Penúltimo caracter: {penultimo}\")\n",
        "print(f\"Primeras 6 letras: {primeras_6}\")\n",
        "print(f\"Desde el 7to caracter: {desde_7}\")\n",
        "print(f\"Hasta el 10mo caracter: {hasta_10}\")\n",
        "print(f\"Cada 2 caracteres: {cada_2}\")\n",
        "print(f\"Reverso: {reverso}\")"
      ],
      "metadata": {
        "colab": {
          "base_uri": "https://localhost:8080/"
        },
        "id": "3py3DrCRroYT",
        "outputId": "c9147f61-e328-4d6f-a42a-0d2fa8a21835"
      },
      "execution_count": null,
      "outputs": [
        {
          "output_type": "stream",
          "name": "stdout",
          "text": [
            "Texto: Python para todos\n",
            "Primer caracter: P\n",
            "Primeras 6 letras: Python\n",
            "Reverso: sodot arap nohtyP\n"
          ]
        }
      ]
    },
    {
      "cell_type": "markdown",
      "source": [
        "# **Operaciones comunes con (Strings)**\n",
        "\n",
        "Tipos de operaciones:\n",
        "\n",
        "- Concatenación\n",
        "- Repetición\n",
        "- Longitud\n",
        "- membresia"
      ],
      "metadata": {
        "id": "QQU0F_gRt81V"
      }
    },
    {
      "cell_type": "markdown",
      "source": [
        "**Concatenación**"
      ],
      "metadata": {
        "id": "_QsE5G6pxZhh"
      }
    },
    {
      "cell_type": "code",
      "source": [
        "# Concatenación (+)\n",
        "saludo = \"Hola\" + \" \" + \"estimada\"\n",
        "nombre_completo = \"Ana\" + \" \" + \"García\"\n",
        "Texto_completo=saludo+\" \"+nombre_completo\n",
        "print(nombre_completo)\n",
        "print(Texto_completo)"
      ],
      "metadata": {
        "colab": {
          "base_uri": "https://localhost:8080/"
        },
        "id": "AeN4phhPvN-D",
        "outputId": "6c78605c-0289-4a4d-a56e-df47d20c962a"
      },
      "execution_count": null,
      "outputs": [
        {
          "output_type": "stream",
          "name": "stdout",
          "text": [
            "Ana García\n",
            "Hola estimada Ana García\n"
          ]
        }
      ]
    },
    {
      "cell_type": "code",
      "source": [
        "# Concatenación con atajo +=\n",
        "mensaje = \"Hola\"\n",
        "mensaje += \" Mundo\"               # \"Hola Mundo\"\n",
        "mensaje += \"!\"                    # \"Hola Mundo!\"\n",
        "print(mensaje)"
      ],
      "metadata": {
        "colab": {
          "base_uri": "https://localhost:8080/"
        },
        "id": "5WcoxNOixhla",
        "outputId": "37a00db1-2684-4d06-b00c-ed4acb719c1a"
      },
      "execution_count": null,
      "outputs": [
        {
          "output_type": "stream",
          "name": "stdout",
          "text": [
            "Hola Mundo!\n"
          ]
        }
      ]
    },
    {
      "cell_type": "markdown",
      "source": [
        "**Repetición**"
      ],
      "metadata": {
        "id": "AZSOT0aPxsOA"
      }
    },
    {
      "cell_type": "code",
      "source": [
        "# Repetición (*)\n",
        "aplausos = \"¡Bravo! \" * 3        # \"¡Bravo! ¡Bravo! ¡Bravo! \"\n",
        "\n",
        "separador = \"Ella\"+\"-\" * 40 + \"yo\"             # \"----------------------------------------\"\n",
        "print(aplausos)\n",
        "print(separador)"
      ],
      "metadata": {
        "colab": {
          "base_uri": "https://localhost:8080/"
        },
        "id": "28H1uCc6xv2s",
        "outputId": "b17ab243-6bdc-4784-cf79-26549d743713"
      },
      "execution_count": null,
      "outputs": [
        {
          "output_type": "stream",
          "name": "stdout",
          "text": [
            "¡Bravo! ¡Bravo! ¡Bravo! \n",
            "Ella----------------------------------------yo\n"
          ]
        }
      ]
    },
    {
      "cell_type": "markdown",
      "source": [
        "**Longitud**"
      ],
      "metadata": {
        "id": "G1NKdjVjyYLY"
      }
    },
    {
      "cell_type": "code",
      "source": [
        "texto = \"Aprendiendo Python\"\n",
        "\n",
        "# Longitud (len())\n",
        "longitud = len(texto)\n",
        "print(f\"'{texto}' tiene {longitud} caracteres\")"
      ],
      "metadata": {
        "colab": {
          "base_uri": "https://localhost:8080/"
        },
        "id": "PQQtBDVDybS1",
        "outputId": "03a6fa22-78d4-460e-a51a-c1cbb0a484e5"
      },
      "execution_count": null,
      "outputs": [
        {
          "output_type": "stream",
          "name": "stdout",
          "text": [
            "'Aprendiendo Python' tiene 18 caracteres\n"
          ]
        }
      ]
    },
    {
      "cell_type": "markdown",
      "source": [
        "**Membresia**"
      ],
      "metadata": {
        "id": "0vFvHsazypK4"
      }
    },
    {
      "cell_type": "code",
      "source": [
        "# Membresía (in, not in)\n",
        "contiene_python = \"Python\" in texto     # True\n",
        "contiene_java = \"Java\" in texto         # False\n",
        "no_contiene_php = \"PHP\" not in texto    # True\n",
        "\n",
        "print(f\"¿Contiene 'Python'? {contiene_python}\")\n",
        "print(f\"¿Contiene 'Java'? {contiene_java}\")\n",
        "print(\"¿contiene 'Python'\")\n",
        "print(contiene_python)"
      ],
      "metadata": {
        "colab": {
          "base_uri": "https://localhost:8080/"
        },
        "id": "swBcVUk4yrxX",
        "outputId": "92d00f19-d780-493d-9a19-6370aaf2c6ac"
      },
      "execution_count": null,
      "outputs": [
        {
          "output_type": "stream",
          "name": "stdout",
          "text": [
            "¿Contiene 'Python'? True\n",
            "¿Contiene 'Java'? False\n",
            "¿contiene 'Python'\n",
            "True\n"
          ]
        }
      ]
    },
    {
      "cell_type": "markdown",
      "source": [
        "# **Acciones principales**\n",
        "\n",
        "- Transformación de texto\n",
        "- Busqueda y verificación\n",
        "- División y Unión\n",
        "- Reemplazo y formateo\n"
      ],
      "metadata": {
        "id": "s5Bb9KXM0lXk"
      }
    },
    {
      "cell_type": "markdown",
      "source": [
        "**Transformación de texto**"
      ],
      "metadata": {
        "id": "g9oiDzLo11of"
      }
    },
    {
      "cell_type": "code",
      "source": [
        "mensaje = \"  python es GENIAL  \"\n",
        "\n",
        "# Mayúsculas y minúsculas\n",
        "mayusculas = mensaje.upper()              # \"  PYTHON ES GENIAL  \"\n",
        "minusculas = mensaje.lower()              # \"  python es genial  \"\n",
        "titulo = mensaje.title()                  # \"  Python Es Genial  \"\n",
        "swapcase = \"PyThOn\".swapcase()            # \"pYtHoN\" Inverite patron\n",
        "\n",
        "# Eliminar espacios\n",
        "sin_espacios = mensaje.strip()            # \"python es GENIAL\"\n",
        "sin_izquierda = mensaje.lstrip()          # \"python es GENIAL  \"\n",
        "sin_derecha = mensaje.rstrip()            # \"  python es GENIAL\"\n",
        "sin_espaciosr=mensaje.replace(\" \",\"\")     # \"pythonesGENIAL\"\n",
        "\n",
        "\n",
        "# Reemplazar subcadenas\n",
        "print(f\"Original: '{mensaje}'\")\n",
        "print(f\"Mayúsculas: '{mayusculas}'\")\n",
        "print(f\"Minúsculas: '{minusculas}'\")\n",
        "print(f\"Título: '{titulo}'\")\n",
        "\n",
        "print(f\"Strip: '{sin_espacios}'\")\n",
        "print(f\"Lstrip: '{sin_izquierda}'\")\n",
        "print(f\"Rstrip: '{sin_derecha}'\")\n",
        "print(f\"replace:'{sin_espaciosr}'\")\n",
        "\n"
      ],
      "metadata": {
        "colab": {
          "base_uri": "https://localhost:8080/"
        },
        "id": "3TN4Aemr10y-",
        "outputId": "8babd1ef-ac08-414c-ac82-92ccfb4fb8ad"
      },
      "execution_count": null,
      "outputs": [
        {
          "output_type": "stream",
          "name": "stdout",
          "text": [
            "Original: '  python es GENIAL  '\n",
            "Mayúsculas: '  PYTHON ES GENIAL  '\n",
            "Minúsculas: '  python es genial  '\n",
            "Título: '  Python Es Genial  '\n",
            "Strip: 'python es GENIAL'\n",
            "Lstrip: 'python es GENIAL  '\n",
            "Rstrip: '  python es GENIAL'\n",
            "replace:'pythonesGENIAL'\n",
            "join:'python es GENIAL'\n"
          ]
        }
      ]
    },
    {
      "cell_type": "markdown",
      "source": [
        "**Búsqueda y verificación**\n",
        "\n"
      ],
      "metadata": {
        "id": "P0XBk-oPMm4o"
      }
    },
    {
      "cell_type": "code",
      "source": [
        "texto = \"Python Lenguaje de Programación\"\n",
        "\n",
        "# Búsqueda de subcadenas\n",
        "posicion = texto.find(\"Programación\")      # 19\n",
        "ultima_posicion = texto.rfind(\"n\")        # 30\n",
        "contador = texto.count(\"n\")               # 3\n",
        "\n",
        "# Verificaciones booleanas\n",
        "es_alfanumerico = \"Python123\".isalnum()   # True\n",
        "es_alfabetico = \"Python\".isalpha()        # True\n",
        "es_numerico = \"123\".isdigit()             # True\n",
        "es_minusculas = \"python\".islower()        # True\n",
        "es_mayusculas = \"PYTHON\".isupper()        # True\n",
        "es_espacios = \"   \".isspace()             # True\n",
        "\n",
        "print(f\"Posición de 'Programación': {posicion}\")\n",
        "print(f\"Última posición de 'n': {ultima_posicion}\")\n",
        "print(f\"Contador de 'n': {contador}\")\n",
        "print(f\"¿Es alfanumérico? {es_alfanumerico}\")\n",
        "print(f\"¿Es alfabético? {es_alfabetico}\")\n",
        "print(f\"¿Es numérico? {es_numerico}\")\n",
        "print(f\"¿Es en minúsculas? {es_minusculas}\")"
      ],
      "metadata": {
        "colab": {
          "base_uri": "https://localhost:8080/"
        },
        "id": "BWzIUTkEMlyI",
        "outputId": "badd0efa-0392-4d48-eb7e-4ac59a1c57c6"
      },
      "execution_count": null,
      "outputs": [
        {
          "output_type": "stream",
          "name": "stdout",
          "text": [
            "Posición de 'Programación': 19\n",
            "Última posición de 'n': 30\n",
            "Contador de 'n': 3\n",
            "¿Es alfanumérico? True\n",
            "¿Es alfabético? False\n",
            "¿Es numérico? True\n",
            "¿Es en minúsculas? True\n"
          ]
        }
      ]
    },
    {
      "cell_type": "code",
      "source": [
        "contadormayus = sum(1 for d in texto if d.isupper())\n",
        "\n",
        "print(\"Cantidad de letras mayúsculas:\", contador)"
      ],
      "metadata": {
        "colab": {
          "base_uri": "https://localhost:8080/"
        },
        "id": "2tektnZ5O7PS",
        "outputId": "5dba1788-4bf6-4b55-eb26-7bec8a129eeb"
      },
      "execution_count": null,
      "outputs": [
        {
          "output_type": "stream",
          "name": "stdout",
          "text": [
            "Cantidad de letras mayúsculas: 3\n"
          ]
        }
      ]
    },
    {
      "cell_type": "markdown",
      "source": [
        "**División y unión**"
      ],
      "metadata": {
        "id": "2xl6nCZYPeq_"
      }
    },
    {
      "cell_type": "code",
      "source": [
        "# División (split)\n",
        "frase = \"Python,Java,C++,JavaScript\"\n",
        "lenguajes = frase.split(\",\")              # ['Python', 'Java', 'C++', 'JavaScript']\n",
        "\n",
        "texto = \"Hola mundo Python\"\n",
        "palabras = texto.split()                  # ['Hola', 'mundo', 'Python']\n",
        "\n",
        "lineas = \"Línea1\\nLínea2\\nLínea3\"\n",
        "lista_lineas = lineas.split(\"\\n\")         # ['Línea 1', 'Línea 2', 'Línea 3']\n",
        "\n",
        "# Unión (join)\n",
        "unido_comas = \",\".join(lenguajes)         # \"Python,Java,C++,JavaScript\"\n",
        "unido_guiones = \"-\".join(palabras)        # \"Hola-mundo-Python\"\n",
        "unido_espacios = \" \".join(lista_lineas)   # \"Línea 1 Línea 2 Línea 3\"\n",
        "\n",
        "print(f\"Dividido: {lenguajes}\")\n",
        "print(f\"Dividido: {palabras}\")\n",
        "print(f\"Unido: {unido_comas}\")\n",
        "print(f\"Unido: {unido_guiones}\")\n",
        "print(f\"Unido: {unido_espacios}\")"
      ],
      "metadata": {
        "colab": {
          "base_uri": "https://localhost:8080/"
        },
        "id": "kOfd4SwMPhqy",
        "outputId": "f0b09e56-b478-4685-ca4b-5808752fec52"
      },
      "execution_count": null,
      "outputs": [
        {
          "output_type": "stream",
          "name": "stdout",
          "text": [
            "Dividido: ['Python', 'Java', 'C++', 'JavaScript']\n",
            "Dividido: ['Hola', 'mundo', 'Python']\n",
            "Unido: Python,Java,C++,JavaScript\n",
            "Unido: Hola-mundo-Python\n",
            "Unido: Línea1 Línea2 Línea3\n"
          ]
        }
      ]
    },
    {
      "cell_type": "markdown",
      "source": [
        "**Reemplazo y formateo**"
      ],
      "metadata": {
        "id": "FsetLDdrT11x"
      }
    },
    {
      "cell_type": "code",
      "source": [
        "texto = \"Me gusta Java y Java es genial\"\n",
        "\n",
        "# Reemplazo\n",
        "nuevo_texto = texto.replace(\"Java\", \"Python\")  # \"Me gusta Python y Python es genial\"\n",
        "\n",
        "reemplazo_limitado = texto.replace(\"Java\", \"Python\", 1)  # Solo el primero\n",
        "\n",
        "# Justificación\n",
        "centrado = \"Python\".center(20, \"-\")       # \"-------Python-------\"\n",
        "izquierda = \"Python\".ljust(15, \"*\")       # \"Python*********\"\n",
        "derecha = \"Python\".rjust(15, \"*\")         # \"*********Python\"\n",
        "\n",
        "# Relleno con ceros\n",
        "numero = \"42\"\n",
        "con_ceros = numero.zfill(5)               # \"00042\"\n",
        "\n",
        "print(f\"Reemplazo: {nuevo_texto}\")\n",
        "print(f\"Centrado: {centrado}\")\n",
        "print(f\"A la izquierda: {izquierda}\")\n",
        "print(f\"A la derecha: {derecha}\")\n",
        "print(f\"Con ceros: {con_ceros}\")\n"
      ],
      "metadata": {
        "colab": {
          "base_uri": "https://localhost:8080/"
        },
        "id": "aCYItBPjTh5_",
        "outputId": "c4fd12a4-ffe3-4084-85c4-5356efc6226e"
      },
      "execution_count": null,
      "outputs": [
        {
          "output_type": "stream",
          "name": "stdout",
          "text": [
            "Reemplazo: Me gusta Python y Python es genial\n",
            "Centrado: -------Python-------\n",
            "A la izquierda: Python*********\n",
            "A la derecha: *********Python\n",
            "Con ceros: 00042\n"
          ]
        }
      ]
    },
    {
      "cell_type": "markdown",
      "source": [
        "**F-String Básicas**"
      ],
      "metadata": {
        "id": "S4_7ZQehWehb"
      }
    },
    {
      "cell_type": "code",
      "source": [
        "nombre = \"Ana\"\n",
        "edad = 30\n",
        "salario = 2500000\n",
        "\n",
        "# Formateo básico\n",
        "presentacion = f\"Me llamo {nombre} y tengo {edad} años\"\n",
        "\n",
        "# Expresiones dentro de f-strings\n",
        "saludo = f\"Hola {nombre.upper()}!\"                    # \"Hola ANA!\"\n",
        "calculado = f\"En 5 años tendré {edad + 5} años\"       # \"En 5 años tendré 35 años\"\n",
        "\n",
        "# Llamadas a funciones\n",
        "def obtener_titulo(nombre):\n",
        "    return f\"Sr./Sra. {nombre}\"\n",
        "\n",
        "titulo = f\"{obtener_titulo(nombre)}, bienvenido/a\"    # \"Sr./Sra. Ana, bienvenido/a\"\n",
        "\n",
        "print(presentacion)\n",
        "print(saludo)\n",
        "print(titulo)"
      ],
      "metadata": {
        "colab": {
          "base_uri": "https://localhost:8080/"
        },
        "id": "aeO6U9FpV6C1",
        "outputId": "23f612eb-af52-4697-e6aa-0cd896d647d8"
      },
      "execution_count": null,
      "outputs": [
        {
          "output_type": "stream",
          "name": "stdout",
          "text": [
            "Me llamo Ana y tengo 30 años\n",
            "Hola ANA!\n",
            "Sr./Sra. Ana, bienvenido/a\n"
          ]
        }
      ]
    },
    {
      "cell_type": "markdown",
      "source": [
        "# **Taller Practico con Strings**"
      ],
      "metadata": {
        "id": "LVFE2UM-WkXn"
      }
    },
    {
      "cell_type": "code",
      "source": [
        "#Parte 1\n",
        "#Concatenar cadenas de texto\n",
        "\n",
        "# INSTRUCCIONES: Construye documentos académicos Usando tus datos\n",
        "titulo =\n",
        "autor =\n",
        "institucion =\n",
        "fecha =\n",
        "\n",
        "# 1. Construye el encabezado del documento Titulo, Autor, Institución, Fecha\n",
        "\n",
        "# 2. Construye una bibliografía del documento\n",
        "bibliografia = \"\"\n",
        "bibliografia ___ \"1. Smith, J. (2020). Machine Learning Fundamentals.\"\n",
        "bibliografia ___ \"2. García, M. (2021). Data Analysis Techniques.\"\n",
        "bibliografia ___ \"3. Lee, K. (2023). Python for Research.\"\n",
        "\n",
        "# 3. Crea un DOI (10.1000/182.v1) concatenando partes\n",
        "prefijo = \"10.1000\"\n",
        "sufijo = \"182\"\n",
        "version = \"v1\"\n",
        "\n"
      ],
      "metadata": {
        "id": "rzKi_6txc4vl"
      },
      "execution_count": null,
      "outputs": []
    },
    {
      "cell_type": "code",
      "source": [
        "# INSTRUCCIONES: Crea elementos visuales para interfaz\n",
        "separador = \"-\"\n",
        "encabezado = \"SISTEMA UNIVERSITARIO\"\n",
        "calificacion = \"★\"\n",
        "estrella_vacia= \"☆\"\n",
        "nota = 4.5\n",
        "\n",
        "#********** SISTEMA UNIVERSITARIO **********\n",
        "#Calificación: ★★★★☆ (4.5/5)\n",
        "\n",
        "\n"
      ],
      "metadata": {
        "colab": {
          "base_uri": "https://localhost:8080/"
        },
        "id": "cbjhrw7rfszO",
        "outputId": "01cb41a6-780c-4165-e9eb-db718a56b032"
      },
      "execution_count": null,
      "outputs": [
        {
          "output_type": "stream",
          "name": "stdout",
          "text": [
            "********** SISTEMA UNIVERSITARIO **********\n",
            "Calificación:★★★★☆ (4.5/5)\n"
          ]
        }
      ]
    },
    {
      "cell_type": "code",
      "source": [
        "#Parte 3\n",
        "#Longitud de texto\n",
        "\n",
        "# INSTRUCCIONES: Analiza longitudes de textos universitarios\n",
        "resumen = '''El presente artículo expone los resultados de un estudio orientado al desarrollo de un modelo de machine learning para la predicción del comportamiento de\n",
        "consumo energético en entornos urbanos, utilizando técnicas avanzadas de análisis de datos. Se recopiló un conjunto de más de 500 000 registros provenientes de sensores\n",
        "inteligentes instalados en la red eléctrica de tres ciudades latinoamericanas. Mediante un proceso de limpieza, normalización y transformación de datos, se identificaron\n",
        " patrones relevantes asociados con variables como temperatura ambiental, hora del día y tipo de zona residencial.\n",
        "\n",
        "El análisis exploratorio permitió detectar correlaciones significativas y anomalías de consumo que fueron modeladas mediante algoritmos supervisados, incluyendo Random Forest,\n",
        " XGBoost y redes neuronales profundas (Deep Neural Networks). Los resultados experimentales mostraron que el modelo basado en XGBoost alcanzó la mayor precisión, con un R² de 0.94 y\n",
        "  un MAE promedio de 0.18, superando en un 12% a los métodos tradicionales de regresión lineal.\n",
        "\n",
        "Además, se desarrolló un tablero interactivo de visualización que permite monitorear en tiempo real las predicciones y el rendimiento energético por sector. Se concluye que la\n",
        " integración de técnicas de machine learning con sistemas de monitoreo urbano representa una herramienta estratégica para la optimización del uso de recursos y la planificación energética sostenible'''\n",
        "\n",
        "titulo = \"Predicción del consumo energético urbano mediante técnicas de análisis de datos y machine learning\"\n",
        "nombre_completo = \"María José Rodríguez Hernández\"\n",
        "\n"
      ],
      "metadata": {
        "id": "f2LYt2dri_Ww"
      },
      "execution_count": null,
      "outputs": []
    },
    {
      "cell_type": "code",
      "source": [
        "#Parte 4\n",
        "#Verifica contenido en textos académicos\n",
        "# Palabras Clave en el resumen del punto anterior: Análisis de datos, Machine learning, Consumo energético, Modelos predictivos\n",
        "\n",
        "palabras_clave = [\"análisis de datos\", \"machine learning\", \"consumo energético\", \"modelos predictivos\"]\n",
        "# 1. Verifica si cada palabra clave está en el abstract y cuantas veces aparece\n"
      ],
      "metadata": {
        "id": "1Qf-OLSmoa54"
      },
      "execution_count": null,
      "outputs": []
    },
    {
      "cell_type": "code",
      "source": [
        "#Parte 5\n",
        "# INSTRUCCIONES: Normaliza datos de entrada de usuario\n",
        "entrada_usuario = \"  ana maría GARCÍA  \"\n",
        "titulo_libro = \"introducción a la PROGRAMACIÓN en PYTHON\"\n",
        "\n",
        "# 1. Normaliza el nombre: Primera letra mayúscula, resto minúsculas, sin espacios\n",
        "nombre_normalizado = entrada_usuario._____()._____()  # Completa la cadena\n",
        "print(\"1. Nombre normalizado:\", ________)\n",
        "\n",
        "# 2. Convierte el título del libro a formato título (cada palabra capitalizada)\n",
        "titulo_normalizado = titulo_libro._______()  # Completa\n",
        "print(\"2. Título normalizado:\", titulo_normalizado)\n",
        "\n",
        "# 3. Crea un email institucional: nombre.apellido@universidad.edu todo en minuscula\n",
        "partes_nombre = nombre_normalizado._______()\n",
        "email_institucional = f\"{partes_nombre[0]}.{partes_nombre[1]}___________\"  # Completa\n",
        "print(\"3. Email institucional:\")"
      ],
      "metadata": {
        "id": "reFG3jwsx613"
      },
      "execution_count": null,
      "outputs": []
    },
    {
      "cell_type": "markdown",
      "source": [],
      "metadata": {
        "id": "8XwyYt2TWkUP"
      }
    },
    {
      "cell_type": "markdown",
      "source": [
        "# **Bibliografia**\n",
        "\n",
        "[Indentación](https://www.freecodecamp.org/espanol/news/indentacion-en-python-con-ejemplos/)\n"
      ],
      "metadata": {
        "id": "qffG44FI6u97"
      }
    },
    {
      "cell_type": "markdown",
      "source": [],
      "metadata": {
        "id": "sZ01UCsZZLTM"
      }
    }
  ]
}